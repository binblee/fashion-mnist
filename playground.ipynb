{
 "cells": [
  {
   "cell_type": "code",
   "execution_count": 1,
   "metadata": {},
   "outputs": [],
   "source": [
    "from main import TrainApp"
   ]
  },
  {
   "cell_type": "code",
   "execution_count": 2,
   "metadata": {},
   "outputs": [
    {
     "name": "stdout",
     "output_type": "stream",
     "text": [
      "epochs: 3, batch size: 64, learning rate: 0.001.\n",
      "Using cuda device\n",
      "SimpleNeuralNetwork(\n",
      "  (flatten): Flatten(start_dim=1, end_dim=-1)\n",
      "  (linear_relu_stack): Sequential(\n",
      "    (0): Linear(in_features=784, out_features=512, bias=True)\n",
      "    (1): ReLU()\n",
      "    (2): Linear(in_features=512, out_features=512, bias=True)\n",
      "    (3): ReLU()\n",
      "    (4): Linear(in_features=512, out_features=10, bias=True)\n",
      "  )\n",
      ")\n",
      "Shape of X [N, C, H, W]: torch.Size([64, 1, 28, 28])\n",
      "Shape of y: torch.Size([64]) torch.int64\n",
      "Epoch 1/3\n",
      "-------------------------------\n",
      "loss: 2.306039  [   64/60000]\n",
      "loss: 2.299595  [ 6464/60000]\n",
      "loss: 2.278246  [12864/60000]\n",
      "loss: 2.269620  [19264/60000]\n",
      "loss: 2.257817  [25664/60000]\n",
      "loss: 2.226661  [32064/60000]\n",
      "loss: 2.238173  [38464/60000]\n",
      "loss: 2.205495  [44864/60000]\n",
      "loss: 2.205317  [51264/60000]\n",
      "loss: 2.166818  [57664/60000]\n",
      "Accuracy: 38.0%, Avg loss: 2.166360 \n",
      "\n",
      "Epoch 2/3\n",
      "-------------------------------\n",
      "loss: 2.178382  [   64/60000]\n",
      "loss: 2.170668  [ 6464/60000]\n",
      "loss: 2.114489  [12864/60000]\n",
      "loss: 2.123966  [19264/60000]\n",
      "loss: 2.081414  [25664/60000]\n",
      "loss: 2.024300  [32064/60000]\n",
      "loss: 2.049104  [38464/60000]\n",
      "loss: 1.979076  [44864/60000]\n",
      "loss: 1.978194  [51264/60000]\n",
      "loss: 1.900860  [57664/60000]\n",
      "Accuracy: 56.4%, Avg loss: 1.905245 \n",
      "\n",
      "Epoch 3/3\n",
      "-------------------------------\n",
      "loss: 1.938699  [   64/60000]\n",
      "loss: 1.907722  [ 6464/60000]\n",
      "loss: 1.796618  [12864/60000]\n",
      "loss: 1.831254  [19264/60000]\n",
      "loss: 1.735781  [25664/60000]\n",
      "loss: 1.684361  [32064/60000]\n",
      "loss: 1.705943  [38464/60000]\n",
      "loss: 1.617539  [44864/60000]\n",
      "loss: 1.635372  [51264/60000]\n",
      "loss: 1.527066  [57664/60000]\n",
      "Accuracy: 60.3%, Avg loss: 1.549754 \n",
      "\n",
      "Done!\n"
     ]
    }
   ],
   "source": [
    "app = TrainApp(['--epochs=3'])\n",
    "app.do_training()"
   ]
  },
  {
   "cell_type": "code",
   "execution_count": 3,
   "metadata": {},
   "outputs": [
    {
     "name": "stdout",
     "output_type": "stream",
     "text": [
      "Saved PyTorch Model State to simple_model.pth\n",
      "epochs: 1, batch size: 64, learning rate: 0.001.\n",
      "Using cuda device\n",
      "SimpleNeuralNetwork(\n",
      "  (flatten): Flatten(start_dim=1, end_dim=-1)\n",
      "  (linear_relu_stack): Sequential(\n",
      "    (0): Linear(in_features=784, out_features=512, bias=True)\n",
      "    (1): ReLU()\n",
      "    (2): Linear(in_features=512, out_features=512, bias=True)\n",
      "    (3): ReLU()\n",
      "    (4): Linear(in_features=512, out_features=10, bias=True)\n",
      "  )\n",
      ")\n",
      "Shape of X [N, C, H, W]: torch.Size([64, 1, 28, 28])\n",
      "Shape of y: torch.Size([64]) torch.int64\n",
      "PyTorch Model State loaded from simple_model.pth\n",
      "Predicted: \"Ankle boot\", Actual: \"Ankle boot\"\n"
     ]
    }
   ],
   "source": [
    "model_filename = \"simple_model.pth\"\n",
    "app.save_model(model_filename)\n",
    "app2 = TrainApp([])\n",
    "app2.load_model(model_filename)\n",
    "app2.do_serving()"
   ]
  }
 ],
 "metadata": {
  "kernelspec": {
   "display_name": "dlwpt",
   "language": "python",
   "name": "python3"
  },
  "language_info": {
   "codemirror_mode": {
    "name": "ipython",
    "version": 3
   },
   "file_extension": ".py",
   "mimetype": "text/x-python",
   "name": "python",
   "nbconvert_exporter": "python",
   "pygments_lexer": "ipython3",
   "version": "3.11.6"
  }
 },
 "nbformat": 4,
 "nbformat_minor": 2
}
