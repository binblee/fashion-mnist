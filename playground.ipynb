{
 "cells": [
  {
   "cell_type": "code",
   "execution_count": 1,
   "metadata": {},
   "outputs": [],
   "source": [
    "from train import TrainApp"
   ]
  },
  {
   "cell_type": "code",
   "execution_count": 4,
   "metadata": {},
   "outputs": [
    {
     "name": "stdout",
     "output_type": "stream",
     "text": [
      "Using cuda device\n",
      "NeuralNetwork(\n",
      "  (flatten): Flatten(start_dim=1, end_dim=-1)\n",
      "  (linear_relu_stack): Sequential(\n",
      "    (0): Linear(in_features=784, out_features=512, bias=True)\n",
      "    (1): ReLU()\n",
      "    (2): Linear(in_features=512, out_features=512, bias=True)\n",
      "    (3): ReLU()\n",
      "    (4): Linear(in_features=512, out_features=10, bias=True)\n",
      "  )\n",
      ")\n",
      "Shape of X [N, C, H, W]: torch.Size([64, 1, 28, 28])\n",
      "Shape of y: torch.Size([64]) torch.int64\n",
      "Epoch 1\n",
      "-------------------------------\n",
      "loss: 2.313519  [   64/60000]\n",
      "loss: 2.293985  [ 6464/60000]\n",
      "loss: 2.270523  [12864/60000]\n",
      "loss: 2.260603  [19264/60000]\n",
      "loss: 2.243841  [25664/60000]\n",
      "loss: 2.210174  [32064/60000]\n",
      "loss: 2.237881  [38464/60000]\n",
      "loss: 2.195654  [44864/60000]\n",
      "loss: 2.187311  [51264/60000]\n",
      "loss: 2.157745  [57664/60000]\n",
      "Accuracy: 28.4%, Avg loss: 2.147428 \n",
      "\n",
      "Epoch 2\n",
      "-------------------------------\n",
      "loss: 2.161867  [   64/60000]\n",
      "loss: 2.148055  [ 6464/60000]\n",
      "loss: 2.085371  [12864/60000]\n",
      "loss: 2.104426  [19264/60000]\n",
      "loss: 2.047199  [25664/60000]\n",
      "loss: 1.980228  [32064/60000]\n",
      "loss: 2.031589  [38464/60000]\n",
      "loss: 1.940919  [44864/60000]\n",
      "loss: 1.945052  [51264/60000]\n",
      "loss: 1.878788  [57664/60000]\n",
      "Accuracy: 52.0%, Avg loss: 1.870187 \n",
      "\n",
      "Done!\n"
     ]
    }
   ],
   "source": [
    "app = TrainApp([])\n",
    "app.do_training()"
   ]
  },
  {
   "cell_type": "code",
   "execution_count": 5,
   "metadata": {},
   "outputs": [
    {
     "name": "stdout",
     "output_type": "stream",
     "text": [
      "Saved PyTorch Model State to model.pth\n"
     ]
    }
   ],
   "source": [
    "app.save_model()"
   ]
  },
  {
   "cell_type": "code",
   "execution_count": 7,
   "metadata": {},
   "outputs": [
    {
     "name": "stdout",
     "output_type": "stream",
     "text": [
      "Using cuda device\n",
      "NeuralNetwork(\n",
      "  (flatten): Flatten(start_dim=1, end_dim=-1)\n",
      "  (linear_relu_stack): Sequential(\n",
      "    (0): Linear(in_features=784, out_features=512, bias=True)\n",
      "    (1): ReLU()\n",
      "    (2): Linear(in_features=512, out_features=512, bias=True)\n",
      "    (3): ReLU()\n",
      "    (4): Linear(in_features=512, out_features=10, bias=True)\n",
      "  )\n",
      ")\n",
      "Shape of X [N, C, H, W]: torch.Size([64, 1, 28, 28])\n",
      "Shape of y: torch.Size([64]) torch.int64\n",
      "Predicted: \"Ankle boot\", Actual: \"Ankle boot\"\n"
     ]
    }
   ],
   "source": [
    "app2 = TrainApp([])\n",
    "app2.load_model()\n",
    "app2.do_serving()"
   ]
  }
 ],
 "metadata": {
  "kernelspec": {
   "display_name": "dlwpt",
   "language": "python",
   "name": "python3"
  },
  "language_info": {
   "codemirror_mode": {
    "name": "ipython",
    "version": 3
   },
   "file_extension": ".py",
   "mimetype": "text/x-python",
   "name": "python",
   "nbconvert_exporter": "python",
   "pygments_lexer": "ipython3",
   "version": "3.11.6"
  }
 },
 "nbformat": 4,
 "nbformat_minor": 2
}
