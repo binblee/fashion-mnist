{
 "cells": [
  {
   "cell_type": "code",
   "execution_count": 1,
   "metadata": {},
   "outputs": [],
   "source": [
    "from train import TrainApp"
   ]
  },
  {
   "cell_type": "code",
   "execution_count": 3,
   "metadata": {},
   "outputs": [
    {
     "name": "stdout",
     "output_type": "stream",
     "text": [
      "Using cpu device\n",
      "NeuralNetwork(\n",
      "  (flatten): Flatten(start_dim=1, end_dim=-1)\n",
      "  (linear_relu_stack): Sequential(\n",
      "    (0): Linear(in_features=784, out_features=512, bias=True)\n",
      "    (1): ReLU()\n",
      "    (2): Linear(in_features=512, out_features=512, bias=True)\n",
      "    (3): ReLU()\n",
      "    (4): Linear(in_features=512, out_features=10, bias=True)\n",
      "  )\n",
      ")\n",
      "Shape of X [N, C, H, W]: torch.Size([64, 1, 28, 28])\n",
      "Shape of y: torch.Size([64]) torch.int64\n",
      "Epoch 1\n",
      "-------------------------------\n",
      "loss: 2.294357  [   64/60000]\n",
      "loss: 2.287752  [ 6464/60000]\n",
      "loss: 2.272075  [12864/60000]\n",
      "loss: 2.278800  [19264/60000]\n",
      "loss: 2.238339  [25664/60000]\n",
      "loss: 2.217356  [32064/60000]\n",
      "loss: 2.227864  [38464/60000]\n",
      "loss: 2.189873  [44864/60000]\n",
      "loss: 2.190996  [51264/60000]\n",
      "loss: 2.164474  [57664/60000]\n",
      "Test Error: \n",
      " Accuracy: 38.7%, Avg loss: 2.155611 \n",
      "\n",
      "Epoch 2\n",
      "-------------------------------\n",
      "loss: 2.159539  [   64/60000]\n",
      "loss: 2.155146  [ 6464/60000]\n",
      "loss: 2.101930  [12864/60000]\n",
      "loss: 2.128899  [19264/60000]\n",
      "loss: 2.056081  [25664/60000]\n",
      "loss: 1.996901  [32064/60000]\n",
      "loss: 2.037387  [38464/60000]\n",
      "loss: 1.950698  [44864/60000]\n",
      "loss: 1.965999  [51264/60000]\n",
      "loss: 1.893605  [57664/60000]\n",
      "Test Error: \n",
      " Accuracy: 50.8%, Avg loss: 1.889834 \n",
      "\n",
      "Done!\n"
     ]
    }
   ],
   "source": [
    "app = TrainApp()\n",
    "app.do_training()"
   ]
  },
  {
   "cell_type": "code",
   "execution_count": 4,
   "metadata": {},
   "outputs": [
    {
     "name": "stdout",
     "output_type": "stream",
     "text": [
      "Saved PyTorch Model State to model.pth\n"
     ]
    }
   ],
   "source": [
    "app.save_model()"
   ]
  },
  {
   "cell_type": "code",
   "execution_count": 2,
   "metadata": {},
   "outputs": [
    {
     "name": "stdout",
     "output_type": "stream",
     "text": [
      "Using cpu device\n",
      "NeuralNetwork(\n",
      "  (flatten): Flatten(start_dim=1, end_dim=-1)\n",
      "  (linear_relu_stack): Sequential(\n",
      "    (0): Linear(in_features=784, out_features=512, bias=True)\n",
      "    (1): ReLU()\n",
      "    (2): Linear(in_features=512, out_features=512, bias=True)\n",
      "    (3): ReLU()\n",
      "    (4): Linear(in_features=512, out_features=10, bias=True)\n",
      "  )\n",
      ")\n",
      "Shape of X [N, C, H, W]: torch.Size([64, 1, 28, 28])\n",
      "Shape of y: torch.Size([64]) torch.int64\n",
      "Predicted: \"Ankle boot\", Actual: \"Ankle boot\"\n"
     ]
    }
   ],
   "source": [
    "app2 = TrainApp()\n",
    "app2.load_model()\n",
    "app2.do_serve()"
   ]
  }
 ],
 "metadata": {
  "kernelspec": {
   "display_name": "dlwpt",
   "language": "python",
   "name": "python3"
  },
  "language_info": {
   "codemirror_mode": {
    "name": "ipython",
    "version": 3
   },
   "file_extension": ".py",
   "mimetype": "text/x-python",
   "name": "python",
   "nbconvert_exporter": "python",
   "pygments_lexer": "ipython3",
   "version": "3.11.7"
  }
 },
 "nbformat": 4,
 "nbformat_minor": 2
}
